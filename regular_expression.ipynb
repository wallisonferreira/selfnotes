{
 "cells": [
  {
   "cell_type": "code",
   "execution_count": 12,
   "metadata": {},
   "outputs": [],
   "source": [
    "zen = \"\"\"\n",
    "The Zen of Python, by Tim Peters\n",
    "\n",
    "Beautiful is better than ugly.\n",
    "Explicit is better than implicit.\n",
    "Simple is better than complex.\n",
    "Complex is better than complicated.\n",
    "Flat is better than nested.\n",
    "Sparse is better than dense.\n",
    "Readability counts.\n",
    "Special cases aren't special enough to break the rules.\n",
    "Although practicality beats purity.\n",
    "Errors should never pass silently.\n",
    "Unless explicitly silenced.\n",
    "In the face of ambiguity, refuse the temptation to guess.\n",
    "There should be one-- and preferably only one --obvious way to do it.\n",
    "Although that way may not be obvious at first unless you're Dutch.\n",
    "Now is better than never.\n",
    "Although never is often better than *right* now.\n",
    "If the implementation is hard to explain, it's a bad idea.\n",
    "If the implementation is easy to explain, it may be a good idea.\n",
    "Namespaces are one honking great idea -- let's do more of those!\n",
    "\n",
    "\"\"\""
   ]
  },
  {
   "cell_type": "code",
   "execution_count": null,
   "metadata": {},
   "outputs": [
    {
     "name": "stdout",
     "output_type": "stream",
     "text": [
      "['Beautiful', 'Beautiful']\n"
     ]
    }
   ],
   "source": [
    "import re\n",
    "line = \"Beautiful is better than ugly.\"\n",
    "matches = re.findall(\"Beautiful\", line)\n",
    "print(matches)"
   ]
  },
  {
   "cell_type": "code",
   "execution_count": 10,
   "metadata": {},
   "outputs": [
    {
     "name": "stdout",
     "output_type": "stream",
     "text": [
      "['Beautiful', 'Beautiful']\n"
     ]
    }
   ],
   "source": [
    "matches = re.findall(\"beautiful\", line, re.IGNORECASE)\n",
    "print(matches)"
   ]
  },
  {
   "cell_type": "markdown",
   "metadata": {},
   "source": [
    "### Occurence in the beginning"
   ]
  },
  {
   "cell_type": "code",
   "execution_count": 15,
   "metadata": {},
   "outputs": [
    {
     "name": "stdout",
     "output_type": "stream",
     "text": [
      "['If', 'If']\n"
     ]
    }
   ],
   "source": [
    "matches = re.findall(\"^If\", zen, re.MULTILINE)\n",
    "print(matches)"
   ]
  },
  {
   "cell_type": "markdown",
   "metadata": {},
   "source": [
    "### Occurence in the end"
   ]
  },
  {
   "cell_type": "code",
   "execution_count": 18,
   "metadata": {},
   "outputs": [
    {
     "name": "stdout",
     "output_type": "stream",
     "text": [
      "['idea.', 'idea.']\n"
     ]
    }
   ],
   "source": [
    "matches = re.findall(\"idea.$\", zen, re.MULTILINE)\n",
    "print(matches)"
   ]
  },
  {
   "cell_type": "markdown",
   "metadata": {},
   "source": [
    "### Occurence in OR operand"
   ]
  },
  {
   "cell_type": "code",
   "execution_count": 17,
   "metadata": {},
   "outputs": [
    {
     "name": "stdout",
     "output_type": "stream",
     "text": [
      "['Two', 'Too']\n"
     ]
    }
   ],
   "source": [
    "matches = re.findall(\"t[wo]o\", \"Two Too\", re.IGNORECASE)\n",
    "print(matches)"
   ]
  },
  {
   "cell_type": "markdown",
   "metadata": {},
   "source": [
    "### matches all the digits and ignore any other character.\n"
   ]
  },
  {
   "cell_type": "code",
   "execution_count": 27,
   "metadata": {},
   "outputs": [
    {
     "name": "stdout",
     "output_type": "stream",
     "text": [
      "['1', '2', '3', '3', '4']\n"
     ]
    },
    {
     "name": "stderr",
     "output_type": "stream",
     "text": [
      "<>:1: SyntaxWarning: invalid escape sequence '\\d'\n",
      "<>:1: SyntaxWarning: invalid escape sequence '\\d'\n",
      "C:\\Users\\sanfe\\AppData\\Local\\Temp\\ipykernel_13684\\3464632140.py:1: SyntaxWarning: invalid escape sequence '\\d'\n",
      "  matches = re.findall(\"\\d\", \"123?34 hello?\", re.IGNORECASE)\n"
     ]
    }
   ],
   "source": [
    "matches = re.findall(\"\\d\", \"123?34 hello?\", re.IGNORECASE)\n",
    "print(matches)"
   ]
  },
  {
   "cell_type": "markdown",
   "metadata": {},
   "source": [
    "### Greeding match"
   ]
  },
  {
   "cell_type": "code",
   "execution_count": 31,
   "metadata": {},
   "outputs": [
    {
     "name": "stdout",
     "output_type": "stream",
     "text": [
      "['__one__ __two__ __three__']\n"
     ]
    }
   ],
   "source": [
    "text = \"__one__ __two__ __three__\"\n",
    "matches = re.findall(\"__.*__\", text, re.IGNORECASE)\n",
    "print(matches)"
   ]
  },
  {
   "cell_type": "markdown",
   "metadata": {},
   "source": [
    "### Non-greeding match"
   ]
  },
  {
   "cell_type": "code",
   "execution_count": 32,
   "metadata": {},
   "outputs": [
    {
     "name": "stdout",
     "output_type": "stream",
     "text": [
      "['__one__', '__two__', '__three__']\n"
     ]
    }
   ],
   "source": [
    "text = \"__one__ __two__ __three__\"\n",
    "matches = re.findall(\"__.*?__\", text, re.IGNORECASE)\n",
    "print(matches)"
   ]
  },
  {
   "cell_type": "markdown",
   "metadata": {},
   "source": [
    "Execute the code for both tasks from the command-line.\n",
    "\n",
    "Perguntas dessa tarefa\n",
    "Write a regular expression that matches the word Dutch in The Zen of Python.\n",
    "\n",
    "Come up with a regular expression that matches all the digits in the string Arizona 479, 501, 870. California 209, 213, 650.\n",
    "\n",
    "Fazer download dos arquivos de recursos"
   ]
  },
  {
   "cell_type": "markdown",
   "metadata": {},
   "source": [
    "### 1. Looking for dutch"
   ]
  },
  {
   "cell_type": "code",
   "execution_count": 35,
   "metadata": {},
   "outputs": [],
   "source": [
    "text = open('zen_of_python.txt', 'r')\n",
    "text = text.read()"
   ]
  },
  {
   "cell_type": "code",
   "execution_count": 44,
   "metadata": {},
   "outputs": [
    {
     "data": {
      "text/plain": [
       "['Dutch']"
      ]
     },
     "execution_count": 44,
     "metadata": {},
     "output_type": "execute_result"
    }
   ],
   "source": [
    "import re\n",
    "matches = re.findall(\"dutch\", text, re.IGNORECASE)\n",
    "matches"
   ]
  },
  {
   "cell_type": "markdown",
   "metadata": {},
   "source": [
    "### 2. Looking for digits"
   ]
  },
  {
   "cell_type": "code",
   "execution_count": 43,
   "metadata": {},
   "outputs": [
    {
     "name": "stdout",
     "output_type": "stream",
     "text": [
      "['4', '7', '9', '5', '0', '1', '8', '7', '0', '2', '0', '9', '2', '1', '3', '6', '5', '0']\n"
     ]
    }
   ],
   "source": [
    "text_2 = \"Arizona 479, 501, 870. California 209, 213, 650.\"\n",
    "matches_digits  = re.findall(\"\\\\d\", text_2)\n",
    "print(matches_digits)"
   ]
  },
  {
   "cell_type": "code",
   "execution_count": null,
   "metadata": {},
   "outputs": [],
   "source": [
    "text = open('zen_of_python.txt', 'r')\n",
    "text = text.read()\n",
    "\n",
    "### 1. Looking for dutch\n",
    "import re\n",
    "matches = re.findall(\"dutch\", text, re.IGNORECASE)\n",
    "matches\n",
    "\n",
    "### 2. Looking for digits\n",
    "text_2 = \"Arizona 479, 501, 870. California 209, 213, 650.\"\n",
    "matches_digits  = re.findall(\"\\\\d\", text_2)\n",
    "print(matches_digits)"
   ]
  },
  {
   "cell_type": "code",
   "execution_count": 51,
   "metadata": {},
   "outputs": [
    {
     "name": "stdout",
     "output_type": "stream",
     "text": [
      "['boo', 'loo']\n"
     ]
    }
   ],
   "source": [
    "text = \"The ghost that says boo haunts the loo\"\n",
    "\n",
    "matches = re.findall(\".oo\", text)\n",
    "\n",
    "print(matches)"
   ]
  },
  {
   "cell_type": "code",
   "execution_count": 12,
   "metadata": {},
   "outputs": [],
   "source": [
    "import random"
   ]
  },
  {
   "cell_type": "code",
   "execution_count": 15,
   "metadata": {},
   "outputs": [
    {
     "data": {
      "text/plain": [
       "[42, 68, 54, 7, 60, 39, 75, 100, 22, 17]"
      ]
     },
     "execution_count": 15,
     "metadata": {},
     "output_type": "execute_result"
    }
   ],
   "source": [
    "items = [random.randint(1, 100) for i in range(10)]\n",
    "items"
   ]
  },
  {
   "cell_type": "code",
   "execution_count": 20,
   "metadata": {},
   "outputs": [
    {
     "name": "stdout",
     "output_type": "stream",
     "text": [
      "0\n",
      "5\n",
      "5\n",
      "0\n",
      "4\n",
      "4\n",
      "5\n",
      "2\n",
      "1\n",
      "3\n"
     ]
    }
   ],
   "source": [
    "for i in items:\n",
    "    print(i % 7)"
   ]
  }
 ],
 "metadata": {
  "kernelspec": {
   "display_name": "venv",
   "language": "python",
   "name": "python3"
  },
  "language_info": {
   "codemirror_mode": {
    "name": "ipython",
    "version": 3
   },
   "file_extension": ".py",
   "mimetype": "text/x-python",
   "name": "python",
   "nbconvert_exporter": "python",
   "pygments_lexer": "ipython3",
   "version": "3.12.4"
  }
 },
 "nbformat": 4,
 "nbformat_minor": 2
}
